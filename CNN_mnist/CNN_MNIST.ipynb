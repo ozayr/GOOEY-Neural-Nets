{
 "cells": [
  {
   "cell_type": "code",
   "execution_count": 3,
   "metadata": {},
   "outputs": [
    {
     "data": {
      "text/html": [
       "<style>.container { width:100% !important; }</style>"
      ],
      "text/plain": [
       "<IPython.core.display.HTML object>"
      ]
     },
     "metadata": {},
     "output_type": "display_data"
    }
   ],
   "source": [
    "from IPython.core.display import display, HTML\n",
    "display(HTML(\"<style>.container { width:100% !important; }</style>\"))"
   ]
  },
  {
   "cell_type": "code",
   "execution_count": null,
   "metadata": {},
   "outputs": [],
   "source": [
    "def to_viewable_image(tensor):\n",
    "    image = tensor.clone().detach().numpy()\n",
    "    image = image.transpose(1,2,0)\n",
    "    image = image * np.array( (0.5,0.5,0.5)) + np.array( (0.5,0.5,0.5))\n",
    "    image = image.clip(0,1)\n",
    "    return image"
   ]
  },
  {
   "cell_type": "code",
   "execution_count": null,
   "metadata": {},
   "outputs": [],
   "source": [
    "%reset\n",
    "import torch\n",
    "import torch.nn as nn\n",
    "import torch.nn.functional as F\n",
    "from torch.utils.data import DataLoader\n",
    "from torch.utils.data import Dataset as BaseDataset\n",
    "import matplotlib.pyplot as plt\n",
    "import numpy as np\n",
    "from sklearn import datasets as gen_dataset\n",
    "\n",
    "from torchvision import datasets,transforms\n",
    "\n",
    "\n",
    "torch.manual_seed(1)"
   ]
  },
  {
   "cell_type": "code",
   "execution_count": null,
   "metadata": {},
   "outputs": [],
   "source": [
    "# data has already been loaded just need to be prepared\n",
    "transform = transforms.Compose([transforms.Resize((28,28)),\n",
    "                                transforms.ToTensor(),\n",
    "                                transforms.Normalize((0.5,),(0.5,))\n",
    "                                ])\n",
    "training_dataset = datasets.MNIST(root = './data',train =True,download =True,transform=transform)\n",
    "validation_dataset = datasets.MNIST(root = './data',train =False,download =True,transform=transform)"
   ]
  },
  {
   "cell_type": "code",
   "execution_count": null,
   "metadata": {},
   "outputs": [],
   "source": [
    "#  Vanilla ANN\n",
    "class my_model(nn.Module):\n",
    "    def __init__(self, input_size = 1 , output_size = 1, num_layers = 1, width = 1):\n",
    "        super().__init__()\n",
    "        self.input_layer = nn.Linear(input_size,width)\n",
    "        self.hidden_layer = nn.Linear(width,width)\n",
    "        self.output_layer = nn.Linear(width,output_size)\n",
    "    \n",
    "        self.num_layers = num_layers\n",
    "        \n",
    "    def forward(self,x):\n",
    "        x = F.relu(self.input_layer(x))\n",
    "        \n",
    "        for i in range(self.num_layers):\n",
    "            x = F.relu(self.hidden_layer(x))\n",
    "            \n",
    "        pred = self.output_layer(x)\n",
    "        return pred\n",
    "    \n",
    "    def predict(self,x):\n",
    "        pred = self.forward(x)\n",
    "        return np.argmax(pred.detach().numpy(),axis=1)\n",
    "    \n",
    "    \n",
    "    \n",
    "#  Convolutional Neural Network   \n",
    "class my_cnn_model(nn.Module):\n",
    "    def __init__(self, input_channels = 1 , classses = 10,fc_neurons = 500):\n",
    "        super().__init__()\n",
    "        \n",
    "        self.conv1 = nn.Conv2d(input_channels, 20, 5,1)\n",
    "        self.conv2 = nn.Conv2d(20,50,5,1)\n",
    "        self.max_pool = nn.MaxPool2d(2,2)\n",
    "        self.FC = nn.Linear(800,fc_neurons)\n",
    "        self.head = nn.Linear(fc_neurons,classses)\n",
    "        self.dropout = nn.Dropout(0.5)\n",
    "        \n",
    "    def forward(self,x):\n",
    "       \n",
    "       \n",
    "        x = F.relu(self.conv1(x))\n",
    "        x = self.max_pool(x)\n",
    "        \n",
    "        x = F.relu(self.conv2(x))\n",
    "        x = self.max_pool(x)\n",
    "    \n",
    "        x =x.view(-1,800)\n",
    "        \n",
    "        x = F.relu(self.FC(x))\n",
    "        x= self.dropout(x)\n",
    "        pred = self.head(x)\n",
    "        return pred\n",
    "    \n",
    "    def conv_output_size(self,image_size, kernal_size, padding = 0  , stride = 1):\n",
    "        w = image_size\n",
    "        k = kernal_size\n",
    "        p = padding\n",
    "        s = stride\n",
    "        return int(((w-k+2*p)/s)+1)\n",
    "    \n",
    "    def predict(self,x):\n",
    "        pred = self.forward(x)\n",
    "        return np.argmax(pred.cpu().detach().numpy(),axis=1)"
   ]
  },
  {
   "cell_type": "code",
   "execution_count": null,
   "metadata": {},
   "outputs": [],
   "source": [
    "batch_size = 200\n",
    "training_loader = DataLoader(training_dataset,batch_size=batch_size,shuffle=True)\n",
    "validation_loader = DataLoader(validation_dataset,batch_size=batch_size,shuffle=False)\n"
   ]
  },
  {
   "cell_type": "code",
   "execution_count": null,
   "metadata": {
    "scrolled": true
   },
   "outputs": [],
   "source": [
    "%matplotlib qt\n",
    "\n",
    "device = torch.device('cuda:0' if torch.cuda.is_available() else 'cpu')\n",
    "# model = my_model(input_size = 28*28 ,output_size = 10, num_layers = 2, width = 100)\n",
    "model = my_cnn_model().to(device)\n",
    "\n",
    "criterion = nn.CrossEntropyLoss()\n",
    "optimizer = torch.optim.Adam(model.parameters() , lr = 0.001)\n",
    "\n",
    "epochs = 10\n",
    "training_loss = []\n",
    "training_accuracy = []\n",
    "\n",
    "validation_accuracy = []\n",
    "validation_loss =[]\n",
    "\n",
    "for i in range(epochs):\n",
    "    \n",
    "    training_running_loss = 0.0\n",
    "    training_running_accuracy =0.0\n",
    "    \n",
    "    validation_running_loss = 0.0\n",
    "    validation_running_accuracy =0.0\n",
    "    \n",
    "    for X,y in training_loader:\n",
    "        \n",
    "        X,y = X.to(device),y.to(device) \n",
    "#         X = X.view(X.shape[0],-1)\n",
    "        y_pred = model(X)\n",
    "        loss = criterion(y_pred,y)\n",
    "            \n",
    "        optimizer.zero_grad()\n",
    "        loss.backward()\n",
    "        optimizer.step()\n",
    "        \n",
    "        training_running_loss += loss.item()\n",
    "        \n",
    "        predicted_label = np.argmax(y_pred.cpu().detach(),1)\n",
    "        training_running_accuracy += sum(predicted_label == y.cpu().data)\n",
    "    else:\n",
    "        with torch.no_grad():\n",
    "            for val_X,val_y in validation_loader:\n",
    "\n",
    "                val_X,val_y = val_X.to(device),val_y.to(device) \n",
    "#                 val_X = val_X.view(val_X.shape[0],-1)\n",
    "                y_pred = model(val_X)\n",
    "                loss = criterion(y_pred,val_y)\n",
    "                \n",
    "                validation_running_loss += loss.item()\n",
    "                predicted_label = np.argmax(y_pred.cpu().detach(),1)\n",
    "                validation_running_accuracy += sum(predicted_label == val_y.cpu().data)\n",
    "                \n",
    "                \n",
    "            \n",
    "        val_epoch_loss = validation_running_loss/len(validation_loader)\n",
    "        val_epoch_accuracy = (validation_running_accuracy.float()/len(validation_loader))/batch_size\n",
    "        \n",
    "        epoch_loss = training_running_loss/len(training_loader)\n",
    "        epoch_accuracy = (training_running_accuracy.float()/len(training_loader))/batch_size\n",
    "        \n",
    "        print(f'epoch:{i} training loss:{ round(epoch_loss,4) }  training accuracy:{ round(epoch_accuracy.item(),4) } val loss:{ round(val_epoch_loss,4) }  val accuracy:{ round(val_epoch_accuracy.item(),4) }')\n",
    "        \n",
    "        training_loss.append(epoch_loss)\n",
    "        training_accuracy.append(epoch_accuracy.item())\n",
    "        \n",
    "        validation_loss.append(val_epoch_loss)\n",
    "        validation_accuracy.append(val_epoch_accuracy.item())\n",
    "    \n",
    " \n",
    "    "
   ]
  },
  {
   "cell_type": "code",
   "execution_count": null,
   "metadata": {},
   "outputs": [],
   "source": [
    "fig =  plt.figure()\n",
    "ax1 = fig.add_subplot(2,1,1)\n",
    "ax1.plot(training_loss , label = 'train')\n",
    "ax1.plot(validation_loss , label = 'val')\n",
    "ax1.set_title('loss')\n",
    "ax1.legend()\n",
    "ax2 = fig.add_subplot(2,1,2)\n",
    "ax2.plot(training_accuracy , label = 'train')\n",
    "ax2.plot(validation_accuracy , label = 'val')\n",
    "ax2.set_title('Accuracy')\n",
    "ax2.legend()\n",
    "plt.tight_layout()\n",
    "plt.savefig('wDropout.jpg')"
   ]
  },
  {
   "cell_type": "code",
   "execution_count": null,
   "metadata": {},
   "outputs": [],
   "source": []
  }
 ],
 "metadata": {
  "kernelspec": {
   "display_name": "Python 3",
   "language": "python",
   "name": "python3"
  },
  "language_info": {
   "codemirror_mode": {
    "name": "ipython",
    "version": 3
   },
   "file_extension": ".py",
   "mimetype": "text/x-python",
   "name": "python",
   "nbconvert_exporter": "python",
   "pygments_lexer": "ipython3",
   "version": "3.7.4"
  }
 },
 "nbformat": 4,
 "nbformat_minor": 2
}
